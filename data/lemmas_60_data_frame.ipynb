{
 "cells": [
  {
   "cell_type": "code",
   "execution_count": 1,
   "id": "3198c30e-f74f-4103-900c-0ab7fe3af10c",
   "metadata": {},
   "outputs": [],
   "source": [
    "import pandas as pd"
   ]
  },
  {
   "cell_type": "markdown",
   "id": "7ef72eb8-ed0d-49a3-a67b-fd4bfa0e92be",
   "metadata": {},
   "source": [
    "---"
   ]
  },
  {
   "cell_type": "code",
   "execution_count": 4,
   "id": "3484a0f1-a823-48c7-a659-cf2f313283d8",
   "metadata": {},
   "outputs": [],
   "source": [
    "df = pd.read_csv('lemmas_60k.tsv', sep='\\t')"
   ]
  },
  {
   "cell_type": "code",
   "execution_count": 6,
   "id": "a8469713-1925-4607-8371-d9713cf00027",
   "metadata": {},
   "outputs": [
    {
     "data": {
      "text/html": [
       "<div>\n",
       "<style scoped>\n",
       "    .dataframe tbody tr th:only-of-type {\n",
       "        vertical-align: middle;\n",
       "    }\n",
       "\n",
       "    .dataframe tbody tr th {\n",
       "        vertical-align: top;\n",
       "    }\n",
       "\n",
       "    .dataframe thead th {\n",
       "        text-align: right;\n",
       "    }\n",
       "</style>\n",
       "<table border=\"1\" class=\"dataframe\">\n",
       "  <thead>\n",
       "    <tr style=\"text-align: right;\">\n",
       "      <th></th>\n",
       "      <th>rank</th>\n",
       "      <th>lemma</th>\n",
       "      <th>PoS</th>\n",
       "      <th>freq</th>\n",
       "      <th>perMil</th>\n",
       "      <th>%caps</th>\n",
       "      <th>%allC</th>\n",
       "      <th>range</th>\n",
       "      <th>disp</th>\n",
       "      <th>blog</th>\n",
       "      <th>...</th>\n",
       "      <th>news</th>\n",
       "      <th>acad</th>\n",
       "      <th>blogPM</th>\n",
       "      <th>webPM</th>\n",
       "      <th>TVMPM</th>\n",
       "      <th>spokPM</th>\n",
       "      <th>ficPM</th>\n",
       "      <th>magPM</th>\n",
       "      <th>newsPM</th>\n",
       "      <th>acadPM</th>\n",
       "    </tr>\n",
       "  </thead>\n",
       "  <tbody>\n",
       "    <tr>\n",
       "      <th>0</th>\n",
       "      <td>5</td>\n",
       "      <td>of</td>\n",
       "      <td>i</td>\n",
       "      <td>23159162</td>\n",
       "      <td>23321.89</td>\n",
       "      <td>0.01</td>\n",
       "      <td>0.00</td>\n",
       "      <td>477933</td>\n",
       "      <td>0.97</td>\n",
       "      <td>2897295</td>\n",
       "      <td>...</td>\n",
       "      <td>2867922</td>\n",
       "      <td>4500485</td>\n",
       "      <td>23317.58</td>\n",
       "      <td>26588.36</td>\n",
       "      <td>10918.77</td>\n",
       "      <td>20157.43</td>\n",
       "      <td>19270.82</td>\n",
       "      <td>25796.39</td>\n",
       "      <td>23557.38</td>\n",
       "      <td>37569.65</td>\n",
       "    </tr>\n",
       "    <tr>\n",
       "      <th>1</th>\n",
       "      <td>15</td>\n",
       "      <td>do</td>\n",
       "      <td>v</td>\n",
       "      <td>8186412</td>\n",
       "      <td>8244.70</td>\n",
       "      <td>0.10</td>\n",
       "      <td>0.01</td>\n",
       "      <td>415641</td>\n",
       "      <td>0.98</td>\n",
       "      <td>1052753</td>\n",
       "      <td>...</td>\n",
       "      <td>557889</td>\n",
       "      <td>321166</td>\n",
       "      <td>8472.61</td>\n",
       "      <td>6888.18</td>\n",
       "      <td>18344.18</td>\n",
       "      <td>11672.50</td>\n",
       "      <td>8055.41</td>\n",
       "      <td>4716.30</td>\n",
       "      <td>4582.55</td>\n",
       "      <td>2681.07</td>\n",
       "    </tr>\n",
       "    <tr>\n",
       "      <th>2</th>\n",
       "      <td>25</td>\n",
       "      <td>they</td>\n",
       "      <td>p</td>\n",
       "      <td>4503650</td>\n",
       "      <td>4535.29</td>\n",
       "      <td>0.23</td>\n",
       "      <td>0.00</td>\n",
       "      <td>382938</td>\n",
       "      <td>0.98</td>\n",
       "      <td>626530</td>\n",
       "      <td>...</td>\n",
       "      <td>493994</td>\n",
       "      <td>345418</td>\n",
       "      <td>5042.35</td>\n",
       "      <td>4390.60</td>\n",
       "      <td>4129.95</td>\n",
       "      <td>7414.70</td>\n",
       "      <td>4606.30</td>\n",
       "      <td>3683.25</td>\n",
       "      <td>4057.71</td>\n",
       "      <td>2883.52</td>\n",
       "    </tr>\n",
       "    <tr>\n",
       "      <th>3</th>\n",
       "      <td>35</td>\n",
       "      <td>she</td>\n",
       "      <td>p</td>\n",
       "      <td>3188078</td>\n",
       "      <td>3210.48</td>\n",
       "      <td>0.32</td>\n",
       "      <td>0.00</td>\n",
       "      <td>206627</td>\n",
       "      <td>0.93</td>\n",
       "      <td>181410</td>\n",
       "      <td>...</td>\n",
       "      <td>295580</td>\n",
       "      <td>87513</td>\n",
       "      <td>1460.00</td>\n",
       "      <td>1693.13</td>\n",
       "      <td>3771.82</td>\n",
       "      <td>2812.08</td>\n",
       "      <td>10844.81</td>\n",
       "      <td>2263.90</td>\n",
       "      <td>2427.92</td>\n",
       "      <td>730.55</td>\n",
       "    </tr>\n",
       "    <tr>\n",
       "      <th>4</th>\n",
       "      <td>45</td>\n",
       "      <td>about</td>\n",
       "      <td>i</td>\n",
       "      <td>2427703</td>\n",
       "      <td>2444.76</td>\n",
       "      <td>0.02</td>\n",
       "      <td>0.01</td>\n",
       "      <td>350741</td>\n",
       "      <td>0.98</td>\n",
       "      <td>360952</td>\n",
       "      <td>...</td>\n",
       "      <td>231251</td>\n",
       "      <td>158515</td>\n",
       "      <td>2904.96</td>\n",
       "      <td>2328.58</td>\n",
       "      <td>3194.97</td>\n",
       "      <td>3844.24</td>\n",
       "      <td>2097.08</td>\n",
       "      <td>1865.94</td>\n",
       "      <td>1899.52</td>\n",
       "      <td>1323.27</td>\n",
       "    </tr>\n",
       "  </tbody>\n",
       "</table>\n",
       "<p>5 rows × 25 columns</p>\n",
       "</div>"
      ],
      "text/plain": [
       "   rank  lemma PoS      freq    perMil  %caps  %allC   range  disp     blog  \\\n",
       "0     5     of   i  23159162  23321.89   0.01   0.00  477933  0.97  2897295   \n",
       "1    15     do   v   8186412   8244.70   0.10   0.01  415641  0.98  1052753   \n",
       "2    25   they   p   4503650   4535.29   0.23   0.00  382938  0.98   626530   \n",
       "3    35    she   p   3188078   3210.48   0.32   0.00  206627  0.93   181410   \n",
       "4    45  about   i   2427703   2444.76   0.02   0.01  350741  0.98   360952   \n",
       "\n",
       "   ...     news     acad    blogPM     webPM     TVMPM    spokPM     ficPM  \\\n",
       "0  ...  2867922  4500485  23317.58  26588.36  10918.77  20157.43  19270.82   \n",
       "1  ...   557889   321166   8472.61   6888.18  18344.18  11672.50   8055.41   \n",
       "2  ...   493994   345418   5042.35   4390.60   4129.95   7414.70   4606.30   \n",
       "3  ...   295580    87513   1460.00   1693.13   3771.82   2812.08  10844.81   \n",
       "4  ...   231251   158515   2904.96   2328.58   3194.97   3844.24   2097.08   \n",
       "\n",
       "      magPM    newsPM    acadPM  \n",
       "0  25796.39  23557.38  37569.65  \n",
       "1   4716.30   4582.55   2681.07  \n",
       "2   3683.25   4057.71   2883.52  \n",
       "3   2263.90   2427.92    730.55  \n",
       "4   1865.94   1899.52   1323.27  \n",
       "\n",
       "[5 rows x 25 columns]"
      ]
     },
     "execution_count": 6,
     "metadata": {},
     "output_type": "execute_result"
    }
   ],
   "source": [
    "df.head()"
   ]
  },
  {
   "cell_type": "code",
   "execution_count": 8,
   "id": "4d91e2cd-2cac-4e2e-a443-1e32b04f107b",
   "metadata": {},
   "outputs": [
    {
     "data": {
      "text/html": [
       "<div>\n",
       "<style scoped>\n",
       "    .dataframe tbody tr th:only-of-type {\n",
       "        vertical-align: middle;\n",
       "    }\n",
       "\n",
       "    .dataframe tbody tr th {\n",
       "        vertical-align: top;\n",
       "    }\n",
       "\n",
       "    .dataframe thead th {\n",
       "        text-align: right;\n",
       "    }\n",
       "</style>\n",
       "<table border=\"1\" class=\"dataframe\">\n",
       "  <thead>\n",
       "    <tr style=\"text-align: right;\">\n",
       "      <th></th>\n",
       "      <th>rank</th>\n",
       "      <th>lemma</th>\n",
       "      <th>PoS</th>\n",
       "      <th>freq</th>\n",
       "    </tr>\n",
       "  </thead>\n",
       "  <tbody>\n",
       "    <tr>\n",
       "      <th>0</th>\n",
       "      <td>5</td>\n",
       "      <td>of</td>\n",
       "      <td>i</td>\n",
       "      <td>23159162</td>\n",
       "    </tr>\n",
       "    <tr>\n",
       "      <th>1</th>\n",
       "      <td>15</td>\n",
       "      <td>do</td>\n",
       "      <td>v</td>\n",
       "      <td>8186412</td>\n",
       "    </tr>\n",
       "    <tr>\n",
       "      <th>2</th>\n",
       "      <td>25</td>\n",
       "      <td>they</td>\n",
       "      <td>p</td>\n",
       "      <td>4503650</td>\n",
       "    </tr>\n",
       "    <tr>\n",
       "      <th>3</th>\n",
       "      <td>35</td>\n",
       "      <td>she</td>\n",
       "      <td>p</td>\n",
       "      <td>3188078</td>\n",
       "    </tr>\n",
       "    <tr>\n",
       "      <th>4</th>\n",
       "      <td>45</td>\n",
       "      <td>about</td>\n",
       "      <td>i</td>\n",
       "      <td>2427703</td>\n",
       "    </tr>\n",
       "  </tbody>\n",
       "</table>\n",
       "</div>"
      ],
      "text/plain": [
       "   rank  lemma PoS      freq\n",
       "0     5     of   i  23159162\n",
       "1    15     do   v   8186412\n",
       "2    25   they   p   4503650\n",
       "3    35    she   p   3188078\n",
       "4    45  about   i   2427703"
      ]
     },
     "execution_count": 8,
     "metadata": {},
     "output_type": "execute_result"
    }
   ],
   "source": [
    "df[['rank', 'lemma', 'PoS', 'freq']].head()"
   ]
  },
  {
   "cell_type": "code",
   "execution_count": 7,
   "id": "7854767e-0112-4b62-afe4-6b827b20349a",
   "metadata": {},
   "outputs": [
    {
     "data": {
      "text/plain": [
       "lemma    6100\n",
       "dtype: int64"
      ]
     },
     "execution_count": 7,
     "metadata": {},
     "output_type": "execute_result"
    }
   ],
   "source": [
    "df[['lemma']].count()"
   ]
  },
  {
   "cell_type": "markdown",
   "id": "5ff4206e-7e1c-45ce-b2a3-c8922a34e669",
   "metadata": {},
   "source": [
    "### Duplicates"
   ]
  },
  {
   "cell_type": "markdown",
   "id": "7c99ec8a-dcec-4ec9-b79a-b7dde59a4576",
   "metadata": {
    "jp-MarkdownHeadingCollapsed": true
   },
   "source": [
    "#### Check"
   ]
  },
  {
   "cell_type": "markdown",
   "id": "de650a56-fc93-47c2-91f8-99b28b40136b",
   "metadata": {},
   "source": [
    "###### Only lemma column"
   ]
  },
  {
   "cell_type": "code",
   "execution_count": 12,
   "id": "cd575645-91a7-4956-b0d5-b948e6c7958c",
   "metadata": {},
   "outputs": [],
   "source": [
    "duplicated = df.duplicated(subset=['lemma'], keep=False)"
   ]
  },
  {
   "cell_type": "code",
   "execution_count": 13,
   "id": "1336d7ee-3984-4c7d-b2fa-5b577b9d96cd",
   "metadata": {},
   "outputs": [
    {
     "data": {
      "text/plain": [
       "0    False\n",
       "1    False\n",
       "2    False\n",
       "3    False\n",
       "4    False\n",
       "dtype: bool"
      ]
     },
     "execution_count": 13,
     "metadata": {},
     "output_type": "execute_result"
    }
   ],
   "source": [
    "duplicated.head()"
   ]
  },
  {
   "cell_type": "code",
   "execution_count": 14,
   "id": "7e535f47-e97c-48b7-b6a7-58dc8733a159",
   "metadata": {},
   "outputs": [
    {
     "data": {
      "text/plain": [
       "31    True\n",
       "54    True\n",
       "58    True\n",
       "81    True\n",
       "86    True\n",
       "dtype: bool"
      ]
     },
     "execution_count": 14,
     "metadata": {},
     "output_type": "execute_result"
    }
   ],
   "source": [
    "duplicated.loc[lambda x: x == True].head()"
   ]
  },
  {
   "cell_type": "markdown",
   "id": "29a7c62b-e5af-4fff-9890-cb120bd26900",
   "metadata": {},
   "source": [
    "###### lemma and Pos columns"
   ]
  },
  {
   "cell_type": "code",
   "execution_count": 16,
   "id": "7d17d386-5093-4505-86d3-23622e088744",
   "metadata": {},
   "outputs": [
    {
     "data": {
      "text/html": [
       "<div>\n",
       "<style scoped>\n",
       "    .dataframe tbody tr th:only-of-type {\n",
       "        vertical-align: middle;\n",
       "    }\n",
       "\n",
       "    .dataframe tbody tr th {\n",
       "        vertical-align: top;\n",
       "    }\n",
       "\n",
       "    .dataframe thead th {\n",
       "        text-align: right;\n",
       "    }\n",
       "</style>\n",
       "<table border=\"1\" class=\"dataframe\">\n",
       "  <thead>\n",
       "    <tr style=\"text-align: right;\">\n",
       "      <th></th>\n",
       "      <th>lemma</th>\n",
       "      <th>PoS</th>\n",
       "    </tr>\n",
       "  </thead>\n",
       "  <tbody>\n",
       "    <tr>\n",
       "      <th>31</th>\n",
       "      <td>watch</td>\n",
       "      <td>v</td>\n",
       "    </tr>\n",
       "    <tr>\n",
       "      <th>54</th>\n",
       "      <td>return</td>\n",
       "      <td>v</td>\n",
       "    </tr>\n",
       "    <tr>\n",
       "      <th>58</th>\n",
       "      <td>paper</td>\n",
       "      <td>n</td>\n",
       "    </tr>\n",
       "    <tr>\n",
       "      <th>81</th>\n",
       "      <td>worry</td>\n",
       "      <td>v</td>\n",
       "    </tr>\n",
       "    <tr>\n",
       "      <th>86</th>\n",
       "      <td>present</td>\n",
       "      <td>v</td>\n",
       "    </tr>\n",
       "  </tbody>\n",
       "</table>\n",
       "</div>"
      ],
      "text/plain": [
       "      lemma PoS\n",
       "31    watch   v\n",
       "54   return   v\n",
       "58    paper   n\n",
       "81    worry   v\n",
       "86  present   v"
      ]
     },
     "execution_count": 16,
     "metadata": {},
     "output_type": "execute_result"
    }
   ],
   "source": [
    "df.loc[duplicated, ['lemma', 'PoS']].head()"
   ]
  },
  {
   "cell_type": "code",
   "execution_count": 17,
   "id": "6fdc4e4d-0d62-4147-b847-33efcf03143b",
   "metadata": {},
   "outputs": [],
   "source": [
    "duplicated = df.duplicated(subset=['lemma', 'PoS'], keep=False)"
   ]
  },
  {
   "cell_type": "code",
   "execution_count": 18,
   "id": "1b846a85-6170-443b-89b3-3b118ef61911",
   "metadata": {},
   "outputs": [
    {
     "data": {
      "text/plain": [
       "Series([], dtype: bool)"
      ]
     },
     "execution_count": 18,
     "metadata": {},
     "output_type": "execute_result"
    }
   ],
   "source": [
    "duplicated.loc[lambda x: x == True].head()"
   ]
  },
  {
   "cell_type": "markdown",
   "id": "b2467306-1bab-46e9-83e0-5cb920c8283d",
   "metadata": {},
   "source": [
    "#### Remove duplacates"
   ]
  },
  {
   "cell_type": "code",
   "execution_count": 20,
   "id": "1851b410-706d-4224-ac8b-eebdc9b1142f",
   "metadata": {},
   "outputs": [],
   "source": [
    "uniqueWords = df.drop_duplicates(subset=['lemma'])"
   ]
  },
  {
   "cell_type": "code",
   "execution_count": 21,
   "id": "a331d1db-e54e-4a8a-97bc-e810a430ad73",
   "metadata": {},
   "outputs": [
    {
     "data": {
      "text/html": [
       "<div>\n",
       "<style scoped>\n",
       "    .dataframe tbody tr th:only-of-type {\n",
       "        vertical-align: middle;\n",
       "    }\n",
       "\n",
       "    .dataframe tbody tr th {\n",
       "        vertical-align: top;\n",
       "    }\n",
       "\n",
       "    .dataframe thead th {\n",
       "        text-align: right;\n",
       "    }\n",
       "</style>\n",
       "<table border=\"1\" class=\"dataframe\">\n",
       "  <thead>\n",
       "    <tr style=\"text-align: right;\">\n",
       "      <th></th>\n",
       "      <th>lemma</th>\n",
       "    </tr>\n",
       "  </thead>\n",
       "  <tbody>\n",
       "    <tr>\n",
       "      <th>0</th>\n",
       "      <td>of</td>\n",
       "    </tr>\n",
       "    <tr>\n",
       "      <th>1</th>\n",
       "      <td>do</td>\n",
       "    </tr>\n",
       "    <tr>\n",
       "      <th>2</th>\n",
       "      <td>they</td>\n",
       "    </tr>\n",
       "    <tr>\n",
       "      <th>3</th>\n",
       "      <td>she</td>\n",
       "    </tr>\n",
       "    <tr>\n",
       "      <th>4</th>\n",
       "      <td>about</td>\n",
       "    </tr>\n",
       "  </tbody>\n",
       "</table>\n",
       "</div>"
      ],
      "text/plain": [
       "   lemma\n",
       "0     of\n",
       "1     do\n",
       "2   they\n",
       "3    she\n",
       "4  about"
      ]
     },
     "execution_count": 21,
     "metadata": {},
     "output_type": "execute_result"
    }
   ],
   "source": [
    "uniqueWords[['lemma']].head()"
   ]
  },
  {
   "cell_type": "code",
   "execution_count": 22,
   "id": "983ee32d-8a20-4026-a69c-71e2da96010f",
   "metadata": {},
   "outputs": [
    {
     "data": {
      "text/plain": [
       "lemma    6046\n",
       "dtype: int64"
      ]
     },
     "execution_count": 22,
     "metadata": {},
     "output_type": "execute_result"
    }
   ],
   "source": [
    "uniqueWords[['lemma']].count()"
   ]
  },
  {
   "cell_type": "markdown",
   "id": "5477aa94-6260-48e4-a75e-dcbb4280c171",
   "metadata": {},
   "source": [
    "### Filter"
   ]
  },
  {
   "cell_type": "code",
   "execution_count": 24,
   "id": "f93675f0-5941-4b95-9bae-46303b2d8c2f",
   "metadata": {},
   "outputs": [],
   "source": [
    "wordsWithSpecialSignsMask = uniqueWords['lemma'].str.match('.*[^\\w\\s].*')\n",
    "filtered = uniqueWords[~wordsWithSpecialSignsMask] # invert with ~"
   ]
  },
  {
   "cell_type": "code",
   "execution_count": 25,
   "id": "aa3d9e24-a330-4f27-a277-9602403d19ba",
   "metadata": {},
   "outputs": [
    {
     "data": {
      "text/html": [
       "<div>\n",
       "<style scoped>\n",
       "    .dataframe tbody tr th:only-of-type {\n",
       "        vertical-align: middle;\n",
       "    }\n",
       "\n",
       "    .dataframe tbody tr th {\n",
       "        vertical-align: top;\n",
       "    }\n",
       "\n",
       "    .dataframe thead th {\n",
       "        text-align: right;\n",
       "    }\n",
       "</style>\n",
       "<table border=\"1\" class=\"dataframe\">\n",
       "  <thead>\n",
       "    <tr style=\"text-align: right;\">\n",
       "      <th></th>\n",
       "      <th>lemma</th>\n",
       "    </tr>\n",
       "  </thead>\n",
       "  <tbody>\n",
       "    <tr>\n",
       "      <th>0</th>\n",
       "      <td>of</td>\n",
       "    </tr>\n",
       "    <tr>\n",
       "      <th>1</th>\n",
       "      <td>do</td>\n",
       "    </tr>\n",
       "    <tr>\n",
       "      <th>2</th>\n",
       "      <td>they</td>\n",
       "    </tr>\n",
       "    <tr>\n",
       "      <th>3</th>\n",
       "      <td>she</td>\n",
       "    </tr>\n",
       "    <tr>\n",
       "      <th>4</th>\n",
       "      <td>about</td>\n",
       "    </tr>\n",
       "  </tbody>\n",
       "</table>\n",
       "</div>"
      ],
      "text/plain": [
       "   lemma\n",
       "0     of\n",
       "1     do\n",
       "2   they\n",
       "3    she\n",
       "4  about"
      ]
     },
     "execution_count": 25,
     "metadata": {},
     "output_type": "execute_result"
    }
   ],
   "source": [
    "filtered[['lemma']].head()"
   ]
  },
  {
   "cell_type": "code",
   "execution_count": 26,
   "id": "2cd6af72-bced-42d7-985b-1036ae8e50a3",
   "metadata": {},
   "outputs": [
    {
     "data": {
      "text/plain": [
       "lemma    4991\n",
       "dtype: int64"
      ]
     },
     "execution_count": 26,
     "metadata": {},
     "output_type": "execute_result"
    }
   ],
   "source": [
    "filtered[['lemma']].count()"
   ]
  },
  {
   "cell_type": "markdown",
   "id": "dda25406-5928-45dd-a928-e1d0ecdb4415",
   "metadata": {},
   "source": [
    "### Output unique words"
   ]
  },
  {
   "cell_type": "code",
   "execution_count": 28,
   "id": "ebf96847-3d2e-44ec-a7b7-75495f9c7e7f",
   "metadata": {},
   "outputs": [],
   "source": [
    "filtered.to_csv('lemmas_uniques_60.csv', columns=['lemma'], index=False)"
   ]
  }
 ],
 "metadata": {
  "kernelspec": {
   "display_name": "Python [conda env:base] *",
   "language": "python",
   "name": "conda-base-py"
  },
  "language_info": {
   "codemirror_mode": {
    "name": "ipython",
    "version": 3
   },
   "file_extension": ".py",
   "mimetype": "text/x-python",
   "name": "python",
   "nbconvert_exporter": "python",
   "pygments_lexer": "ipython3",
   "version": "3.11.11"
  }
 },
 "nbformat": 4,
 "nbformat_minor": 5
}
