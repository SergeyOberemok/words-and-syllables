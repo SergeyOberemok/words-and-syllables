{
 "cells": [
  {
   "cell_type": "code",
   "execution_count": 1,
   "id": "48a73d8e-78d4-4819-ab7b-6c864677b1b8",
   "metadata": {},
   "outputs": [],
   "source": [
    "from faker import Faker\n",
    "from textwrap import wrap\n",
    "from itertools import chain\n",
    "from functools import reduce\n",
    "from collections import defaultdict"
   ]
  },
  {
   "cell_type": "markdown",
   "id": "37dc1a32-d8b8-4399-bc19-353e48200ad3",
   "metadata": {},
   "source": [
    "---"
   ]
  },
  {
   "cell_type": "code",
   "execution_count": 3,
   "id": "8d6ecd94-657a-4776-8e9d-e8aef4ff27d3",
   "metadata": {},
   "outputs": [],
   "source": [
    "fake = Faker()"
   ]
  },
  {
   "cell_type": "code",
   "execution_count": 4,
   "id": "3c8a3b2e-03b7-409b-95c3-742234205c96",
   "metadata": {},
   "outputs": [],
   "source": [
    "word = fake.word()"
   ]
  },
  {
   "cell_type": "raw",
   "id": "02dfbb5a-1882-4899-91b3-3cee1661da72",
   "metadata": {},
   "source": [
    "print(word)"
   ]
  },
  {
   "cell_type": "markdown",
   "id": "b8bd20cf-4ddd-46f3-87bc-f9bc1daf1d45",
   "metadata": {},
   "source": [
    "---"
   ]
  },
  {
   "cell_type": "code",
   "execution_count": 6,
   "id": "7179fc16-2caa-453b-9f8f-1ff1cc487fc9",
   "metadata": {},
   "outputs": [],
   "source": [
    "def flatten(listOfLists: list[list]) -> list:\n",
    "    return list(chain.from_iterable(listOfLists))"
   ]
  },
  {
   "cell_type": "code",
   "execution_count": 7,
   "id": "d6ebdd6c-153f-44f3-b87f-75240bdbdfc5",
   "metadata": {},
   "outputs": [],
   "source": [
    "def calculatePercentageOfNumber(percent: int, whole: int) -> int:\n",
    "    return round((percent / 100) * whole)"
   ]
  },
  {
   "cell_type": "markdown",
   "id": "c408cefb-8ceb-4324-995a-68061b9fb9cd",
   "metadata": {},
   "source": [
    "---"
   ]
  },
  {
   "cell_type": "markdown",
   "id": "63b85b8a-36f0-4d4f-aa48-c0641979107e",
   "metadata": {},
   "source": [
    "## Divide word into syllables for search"
   ]
  },
  {
   "cell_type": "markdown",
   "id": "2c275f9b-0126-4dc7-aa50-3f6c4612097c",
   "metadata": {},
   "source": [
    "### Spin word"
   ]
  },
  {
   "cell_type": "markdown",
   "id": "0cc94e60-24b6-4237-bb63-82e1fabc8129",
   "metadata": {},
   "source": [
    "#### One spin"
   ]
  },
  {
   "cell_type": "code",
   "execution_count": 12,
   "id": "16bab903-29bc-4798-a003-e645467e6230",
   "metadata": {},
   "outputs": [],
   "source": [
    "def spinWord(word: str) -> str:\n",
    "    firstLetter = word[0]\n",
    "    rest = word[1:]\n",
    "    return ''.join([rest, firstLetter])"
   ]
  },
  {
   "cell_type": "raw",
   "id": "cc095dee-1f3d-478b-8ca1-7da44c7f3a7c",
   "metadata": {},
   "source": [
    "print(word, spinWord(word), spinWord(spinWord(spinWord(spinWord(spinWord(spinWord(word)))))))"
   ]
  },
  {
   "cell_type": "markdown",
   "id": "a588e8e1-162c-40a0-bc80-897071a7e127",
   "metadata": {},
   "source": [
    "#### Spin around"
   ]
  },
  {
   "cell_type": "code",
   "execution_count": 14,
   "id": "4a30fab3-e7df-4ffd-9b79-64eae306c66c",
   "metadata": {},
   "outputs": [],
   "source": [
    "def spinWordAround(word: str) -> list[str]:\n",
    "    originalWord = word\n",
    "    spunList = [originalWord]\n",
    "    spun = spinWord(word)\n",
    "\n",
    "    while originalWord != spun:\n",
    "        spunList.append(spun)\n",
    "        spun = spinWord(spun)\n",
    "\n",
    "    return spunList"
   ]
  },
  {
   "cell_type": "raw",
   "id": "5375ba1f-602f-4d9c-9d77-6dcb782c4c8b",
   "metadata": {},
   "source": [
    "print(spinWordAround(word))"
   ]
  },
  {
   "cell_type": "markdown",
   "id": "3af6a54c-c8ce-45c4-9a69-895cd874b35a",
   "metadata": {},
   "source": [
    "### Chunk"
   ]
  },
  {
   "cell_type": "markdown",
   "id": "cd112311-7a6c-4a72-a52f-e3343482ffb3",
   "metadata": {},
   "source": [
    "#### syllables"
   ]
  },
  {
   "cell_type": "code",
   "execution_count": 17,
   "id": "d5580291-90d1-43b7-a25b-2d962edd8520",
   "metadata": {},
   "outputs": [],
   "source": [
    "def getSyllables(word: str, syllableLength: int) -> list[str]:\n",
    "    syllables = wrap(word, syllableLength)\n",
    "    return list(filter(lambda syllable: len(syllable) == syllableLength, syllables))"
   ]
  },
  {
   "cell_type": "raw",
   "id": "4d058854-f062-451e-b160-d8389ae583a6",
   "metadata": {},
   "source": [
    "print(getSyllables(word, 2))"
   ]
  },
  {
   "cell_type": "code",
   "execution_count": 18,
   "id": "6d822e5b-d531-4b39-8aea-17eba73af509",
   "metadata": {},
   "outputs": [],
   "source": [
    "def getPossibleSyllables(wordSpins, syllableLength):\n",
    "    for word in wordSpins:\n",
    "        yield from sorted(getSyllables(word, syllableLength))"
   ]
  },
  {
   "cell_type": "raw",
   "id": "466b93af-5175-4c83-82ae-2d9c8dab6ded",
   "metadata": {},
   "source": [
    "print(list(getPossibleSyllables(spinWordAround('hello'), 3)))"
   ]
  },
  {
   "cell_type": "code",
   "execution_count": 19,
   "id": "a99bb163-d0fa-4a8e-885b-c6eb930e4c9a",
   "metadata": {},
   "outputs": [],
   "source": [
    "def filterSyllablesByWord(syllables: list[str], word: str) -> list[str]:\n",
    "    existed = list(filter(lambda syllable: syllable in word, syllables))\n",
    "    unique = reduce(lambda acc, i: acc + [i] if i not in acc else acc, existed, [])\n",
    "    return unique"
   ]
  },
  {
   "cell_type": "markdown",
   "id": "9f0972c4-eb06-49e6-bc79-21a36350d73d",
   "metadata": {},
   "source": [
    "### Divide word by Spining and Chunking"
   ]
  },
  {
   "cell_type": "code",
   "execution_count": 21,
   "id": "5dd46236-4384-4866-8fc9-eee284c961db",
   "metadata": {},
   "outputs": [],
   "source": [
    "def divideIntoSyllables(word: str, syllableLength) -> list[str]:\n",
    "    wordSpins = spinWordAround(word)\n",
    "    syllables = getPossibleSyllables(wordSpins, syllableLength)\n",
    "    unique = filterSyllablesByWord(syllables, word)\n",
    "\n",
    "    return unique"
   ]
  },
  {
   "cell_type": "raw",
   "id": "4413923d-01a8-439c-a38f-9f4703737709",
   "metadata": {},
   "source": [
    "print(divideIntoSyllables(word, 5))"
   ]
  },
  {
   "cell_type": "markdown",
   "id": "62177ec8-6e27-421e-ba24-e1cf07bf615a",
   "metadata": {},
   "source": [
    "### Frequencies"
   ]
  },
  {
   "cell_type": "markdown",
   "id": "093f9800-204d-445f-9c74-b727172d0fb9",
   "metadata": {},
   "source": [
    "#### Count syllables"
   ]
  },
  {
   "cell_type": "code",
   "execution_count": 24,
   "id": "db645c58-5f53-48c8-bc47-0757a05c832c",
   "metadata": {},
   "outputs": [],
   "source": [
    "def countSyllables(words: list[str], syllableLength: int) -> dict[str, int]:\n",
    "    syllablesFrequencies = defaultdict(int)\n",
    "    \n",
    "    for word in words:\n",
    "        for syllable in divideIntoSyllables(word, syllableLength):\n",
    "                syllablesFrequencies[syllable] += 1\n",
    "\n",
    "    return syllablesFrequencies"
   ]
  },
  {
   "cell_type": "raw",
   "id": "df0d81cd-836d-4c45-9f2f-6a649b5a33c8",
   "metadata": {},
   "source": [
    "print(countSyllables(fake.words(), 3))"
   ]
  },
  {
   "cell_type": "markdown",
   "id": "367606ae-f59a-407a-b233-c9f2a3788110",
   "metadata": {},
   "source": [
    "#### Merge and sort"
   ]
  },
  {
   "cell_type": "code",
   "execution_count": 26,
   "id": "fa9e8314-18ac-4c09-bbd2-10656c889a4c",
   "metadata": {},
   "outputs": [],
   "source": [
    "def getSyllablesFrequencies(words: list[str], syllableLength: int = 2) -> dict[str, int]:\n",
    "    syllablesFrequencies = countSyllables(words, syllableLength)\n",
    "    sortedAlphabetically = sorted(syllablesFrequencies)\n",
    "    sortedByFrequency = sorted(sortedAlphabetically, key=syllablesFrequencies.get, reverse=True)\n",
    "    syllablesFrequencies = [(syllable, syllablesFrequencies[syllable]) for syllable in sortedByFrequency]\n",
    "    \n",
    "    return dict(syllablesFrequencies)"
   ]
  },
  {
   "cell_type": "raw",
   "id": "f71bd298-f329-404f-a77f-6ff659fe4e1f",
   "metadata": {},
   "source": [
    "print(getSyllablesFrequencies(fake.words()))"
   ]
  },
  {
   "cell_type": "markdown",
   "id": "d9e55b16-c391-4abe-8b9d-b117b3c04e15",
   "metadata": {},
   "source": [
    "#### Filter by percentage"
   ]
  },
  {
   "cell_type": "code",
   "execution_count": 45,
   "id": "f6baa46b-e166-4b95-bb92-ac8941a7434c",
   "metadata": {},
   "outputs": [],
   "source": [
    "def filterSyllablesFrequenciesByPercentageFrequency(wordsWithFrequencies: dict[str, int], minFrequencyPercentage: int = 0) -> dict[str, int]:\n",
    "    maxValue = max(wordsWithFrequencies.values())\n",
    "    minFrequency = calculatePercentageOfNumber(minFrequencyPercentage, maxValue)\n",
    "    filteredWordsWithFrequencies = filter(lambda wordFrequency: wordFrequency[1] > minFrequency, wordsWithFrequencies.items())\n",
    "    \n",
    "    return dict(filteredWordsWithFrequencies)"
   ]
  },
  {
   "cell_type": "raw",
   "id": "09999eac-6d8a-410b-b2f7-f17d3bea1774",
   "metadata": {},
   "source": [
    "print(list(filterSyllablesFrequenciesByPercentageFrequency(getSyllablesFrequencies(fake.words()), 50)))"
   ]
  }
 ],
 "metadata": {
  "jupytext": {
   "formats": "ipynb,py:light"
  },
  "kernelspec": {
   "display_name": "Python [conda env:base] *",
   "language": "python",
   "name": "conda-base-py"
  },
  "language_info": {
   "codemirror_mode": {
    "name": "ipython",
    "version": 3
   },
   "file_extension": ".py",
   "mimetype": "text/x-python",
   "name": "python",
   "nbconvert_exporter": "python",
   "pygments_lexer": "ipython3",
   "version": "3.11.11"
  }
 },
 "nbformat": 4,
 "nbformat_minor": 5
}
