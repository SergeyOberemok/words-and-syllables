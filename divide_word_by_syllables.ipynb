{
 "cells": [
  {
   "cell_type": "code",
   "execution_count": 2,
   "id": "a19e9b14-1b5e-412c-b311-586be1f00720",
   "metadata": {},
   "outputs": [],
   "source": [
    "from faker import Faker\n",
    "from textwrap import wrap\n",
    "import re\n",
    "from typing import Generator, Iterator\n",
    "from operator import itemgetter"
   ]
  },
  {
   "cell_type": "code",
   "execution_count": 3,
   "id": "dc7edeab-b97d-4cc2-bd3f-64c570daf6a3",
   "metadata": {},
   "outputs": [],
   "source": [
    "fake = Faker()"
   ]
  },
  {
   "cell_type": "markdown",
   "id": "f8f755ba-4767-4857-8c11-37e4c61a8b0b",
   "metadata": {},
   "source": [
    "---"
   ]
  },
  {
   "cell_type": "raw",
   "id": "b1915713-3735-4a57-9105-b3d151f41cb8",
   "metadata": {},
   "source": [
    "word = fake.word()"
   ]
  },
  {
   "cell_type": "code",
   "execution_count": 5,
   "id": "fb865490-83ce-48ab-b58a-c82e0093e718",
   "metadata": {},
   "outputs": [],
   "source": [
    "word = 'their'"
   ]
  },
  {
   "cell_type": "raw",
   "id": "8ac4a1b5-35df-4d7a-8dbc-459baef724f5",
   "metadata": {},
   "source": [
    "syllables = [*wrap(word, 2), *wrap(word, 3)]"
   ]
  },
  {
   "cell_type": "code",
   "execution_count": 68,
   "id": "9c304ce9-8897-4c28-989e-bce4dda91946",
   "metadata": {},
   "outputs": [],
   "source": [
    "syllables = ['he', 'as', 'pe', 'et', 'nd', 'ni', 'ia', 'to', 'na', 'lo', 'sh', 'us', 'pr', 'ce', 'ho', 'mi', 'ur', 'bl', 'th']"
   ]
  },
  {
   "cell_type": "raw",
   "id": "42ad6e56-d01c-4fd0-9030-8a51df01856a",
   "metadata": {
    "editable": true,
    "raw_mimetype": "",
    "slideshow": {
     "slide_type": ""
    },
    "tags": []
   },
   "source": [
    "print(word, syllables)"
   ]
  },
  {
   "cell_type": "markdown",
   "id": "59330c5a-94b3-4ca8-8b48-f3edec00d2f3",
   "metadata": {},
   "source": [
    "---"
   ]
  },
  {
   "cell_type": "markdown",
   "id": "97e3e36f-a388-4772-bdd6-3bdd9602148c",
   "metadata": {},
   "source": [
    "# Divide word by syllables"
   ]
  },
  {
   "cell_type": "markdown",
   "id": "96e00039-40ed-49e1-9438-8af4e5c0fc67",
   "metadata": {},
   "source": [
    "## Syllables"
   ]
  },
  {
   "cell_type": "markdown",
   "id": "5ff4525c-c821-45bd-8308-ec72779436fe",
   "metadata": {},
   "source": [
    "### Sort syllables"
   ]
  },
  {
   "cell_type": "code",
   "execution_count": 11,
   "id": "009794f2-3efb-49ca-9ff6-9d9e33700e09",
   "metadata": {},
   "outputs": [],
   "source": [
    "def sortByLength(syllables: list[str]) -> list[str]:\n",
    "    return sorted(sorted(syllables), key=len, reverse=True)"
   ]
  },
  {
   "cell_type": "raw",
   "id": "1bc07424-3895-423c-89d0-1ee62a5c0970",
   "metadata": {},
   "source": [
    "print(sortByLength(syllables))"
   ]
  },
  {
   "cell_type": "markdown",
   "id": "a1bc97cd-733e-4e73-84ae-db0663d3de7a",
   "metadata": {},
   "source": [
    "### Syllables in word"
   ]
  },
  {
   "cell_type": "code",
   "execution_count": 77,
   "id": "a10380b9-5ca4-444f-913e-62c9a08639e4",
   "metadata": {},
   "outputs": [],
   "source": [
    "def filterSyllablesByWord(word: str, syllables: list[str]) -> Generator[str, None, None]:\n",
    "    filteredSyllables = [syllable for syllable in syllables if re.search(syllable, word, re.IGNORECASE)]\n",
    "\n",
    "    leftover = word\n",
    "    while len(leftover) > 0:\n",
    "        syllable = next((syllable for syllable in filteredSyllables if re.search(rf'^{syllable}.*', leftover, re.IGNORECASE)), '')\n",
    "        \n",
    "        if len(syllable):\n",
    "            word = re.sub(syllable, ' ' * len(syllable), word, flags=re.IGNORECASE)\n",
    "            leftover = leftover[len(syllable):]\n",
    "            yield syllable\n",
    "        else:\n",
    "            leftover = leftover[1:]\n",
    "    else:\n",
    "        yield from re.findall(r'\\w+', word, re.IGNORECASE)        "
   ]
  },
  {
   "cell_type": "raw",
   "id": "82600b75-ee0b-4826-baee-066926171f3a",
   "metadata": {},
   "source": [
    "print([*filterSyllablesByWord(word, sortByLength(syllables))])"
   ]
  },
  {
   "cell_type": "markdown",
   "id": "495dfeba-adfd-47a0-8199-9c49996d4f5d",
   "metadata": {},
   "source": [
    "## Indexes"
   ]
  },
  {
   "cell_type": "markdown",
   "id": "5007a617-427a-4219-adfc-c4f652d602e7",
   "metadata": {},
   "source": [
    "### Start positions of syllables"
   ]
  },
  {
   "cell_type": "code",
   "execution_count": 16,
   "id": "fea86023-8074-4f40-92aa-c10911df24fe",
   "metadata": {},
   "outputs": [],
   "source": [
    "def findIndexes(word: str, syllable: str) -> list[int]:\n",
    "    indexes = list()\n",
    "    syllableRegex = re.compile(syllable, re.IGNORECASE)\n",
    "        \n",
    "    while (match := syllableRegex.search(word)) is not None:\n",
    "        index, _ = match.span()\n",
    "        indexes.append(index)\n",
    "        word = syllableRegex.sub(' ' * len(match.group()), word, 1)\n",
    "\n",
    "    return indexes"
   ]
  },
  {
   "cell_type": "raw",
   "id": "f2d762de-6c81-4325-87be-86211652192b",
   "metadata": {},
   "source": [
    "print(findIndexes(word, word[1]))"
   ]
  },
  {
   "cell_type": "markdown",
   "id": "d5e32266-d7f0-4694-9222-2a5de80a11d5",
   "metadata": {},
   "source": [
    "### Index Syllable pair"
   ]
  },
  {
   "cell_type": "code",
   "execution_count": 18,
   "id": "40b5f8b4-f92b-4138-8f9a-c6e8b9b942f8",
   "metadata": {},
   "outputs": [],
   "source": [
    "def findIndexesOfSyllablePair(word: str, syllable: str) -> list[tuple[int, str]]:\n",
    "    indexes = findIndexes(word, syllable)\n",
    "    return [(index, syllable) for index in indexes]"
   ]
  },
  {
   "cell_type": "raw",
   "id": "27f5e1ca-eae5-4600-ad4c-69f50dc5f473",
   "metadata": {},
   "source": [
    "print(findIndexesOfSyllablePair(word, word[1]))"
   ]
  },
  {
   "cell_type": "code",
   "execution_count": 19,
   "id": "385d3f6e-464b-4e93-9c50-59be5c0338d9",
   "metadata": {},
   "outputs": [],
   "source": [
    "def findIndexesSyllablesPairs(word: str, syllables: Iterator[str]) -> Generator[tuple[int, str], None, None]:\n",
    "    for syllable in filterSyllablesByWord(word, syllables):\n",
    "        yield from findIndexesOfSyllablePair(word, syllable)"
   ]
  },
  {
   "cell_type": "raw",
   "id": "153e062a-39b9-4f76-9bee-d4345e318b62",
   "metadata": {},
   "source": [
    "print([*findIndexesSyllablesPairs(word, sortByLength(syllables))])"
   ]
  },
  {
   "cell_type": "markdown",
   "id": "af421d71-ee6a-40ea-9928-4171c7c3cae3",
   "metadata": {},
   "source": [
    "## Sort and filter"
   ]
  },
  {
   "cell_type": "code",
   "execution_count": 21,
   "id": "ad27fcb7-c805-446f-8819-f85c090efde5",
   "metadata": {},
   "outputs": [],
   "source": [
    "def sortAndFilterIndexesSyllablesPairs(indexesSyllablesPairs: Iterator[tuple[int, str]]) -> list[tuple[int, str]]:\n",
    "    sortedIndexesSyllablesByLength = sorted(indexesSyllablesPairs, key=itemgetter(1), reverse=True)\n",
    "    sortedIndexesSyllablesByIndex = sorted(sortedIndexesSyllablesByLength, key=itemgetter(0))\n",
    "    stack = list()\n",
    "\n",
    "    for (index, syllable) in sortedIndexesSyllablesByIndex:\n",
    "        try:\n",
    "            (latestIndex, latestSyllable) = stack[-1]\n",
    "    \n",
    "            if latestIndex + len(latestSyllable) <= index:\n",
    "                stack.append((index, syllable))\n",
    "        except IndexError:\n",
    "            stack.append((index, syllable))\n",
    "\n",
    "    return stack"
   ]
  },
  {
   "cell_type": "raw",
   "id": "15960829-3d42-4b1d-940b-9e532612cf7d",
   "metadata": {},
   "source": [
    "print(sortAndFilterIndexesSyllablesPairs(findIndexesSyllablesPairs(word, sortByLength(syllables))))"
   ]
  },
  {
   "cell_type": "markdown",
   "id": "684f77b3-fc0d-4562-9275-b941666f23b0",
   "metadata": {},
   "source": [
    "## Divide"
   ]
  },
  {
   "cell_type": "code",
   "execution_count": 23,
   "id": "94d791bd-1a23-447e-93d8-e55c86afa554",
   "metadata": {},
   "outputs": [],
   "source": [
    "def divideBy(word: str, syllables: Iterator[str]) -> list[str]:\n",
    "    filteredSyllables = filterSyllablesByWord(word, syllables)\n",
    "    indexesSyllablesPairs = findIndexesSyllablesPairs(word, filteredSyllables)\n",
    "    sortedAndFilteredIndexesSyllablesPairs = sortAndFilterIndexesSyllablesPairs(indexesSyllablesPairs)\n",
    "\n",
    "    return [syllable for (_, syllable) in sortedAndFilteredIndexesSyllablesPairs]"
   ]
  },
  {
   "cell_type": "raw",
   "id": "b6d064a6-d8f2-4276-81fc-218bf5472e52",
   "metadata": {},
   "source": [
    "filteredSyllables = filter(lambda syllable: len(syllable) >= 2, sortByLength(syllables))\n",
    "dividedBySyllables = divideBy(word, filteredSyllables)"
   ]
  },
  {
   "cell_type": "raw",
   "id": "cf633299-a2c6-464b-97b7-594d8feb20b2",
   "metadata": {},
   "source": [
    "print(dividedBySyllables)"
   ]
  },
  {
   "cell_type": "raw",
   "id": "533f870f-0c8b-482b-beb9-5136c5b2ae3b",
   "metadata": {},
   "source": [
    "print(word, syllables, '-'.join(dividedBySyllables))"
   ]
  }
 ],
 "metadata": {
  "jupytext": {
   "formats": "ipynb,py:light"
  },
  "kernelspec": {
   "display_name": "Python [conda env:base] *",
   "language": "python",
   "name": "conda-base-py"
  },
  "language_info": {
   "codemirror_mode": {
    "name": "ipython",
    "version": 3
   },
   "file_extension": ".py",
   "mimetype": "text/x-python",
   "name": "python",
   "nbconvert_exporter": "python",
   "pygments_lexer": "ipython3",
   "version": "3.11.11"
  }
 },
 "nbformat": 4,
 "nbformat_minor": 5
}
